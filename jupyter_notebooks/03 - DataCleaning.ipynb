{
 "cells": [
  {
   "cell_type": "markdown",
   "metadata": {},
   "source": [
    "# **Data Cleaning Notebook**"
   ]
  },
  {
   "cell_type": "markdown",
   "metadata": {},
   "source": [
    "## Objectives\n",
    "- Evaluate missing data\n",
    "- Clean data\n",
    "\n",
    "## Inputs\n",
    "\n",
    "*   outputs/datasets/collection/Co2Emissions.csv\n",
    "\n",
    "## Outputs\n",
    "\n",
    "* - Data Cleaning Pipeline\n",
    "\n"
   ]
  },
  {
   "cell_type": "markdown",
   "metadata": {},
   "source": [
    "# Install python packages in the notebooks"
   ]
  },
  {
   "cell_type": "code",
   "execution_count": 1,
   "metadata": {},
   "outputs": [
    {
     "name": "stdout",
     "output_type": "stream",
     "text": [
      "Requirement already satisfied: numpy==1.18.5 in /home/gitpod/.pyenv/versions/3.8.16/lib/python3.8/site-packages (from -r /workspace/pp5_co2_oracle/requirements.txt (line 1)) (1.18.5)\n",
      "Requirement already satisfied: pandas==1.4.2 in /home/gitpod/.pyenv/versions/3.8.16/lib/python3.8/site-packages (from -r /workspace/pp5_co2_oracle/requirements.txt (line 2)) (1.4.2)\n",
      "Requirement already satisfied: matplotlib==3.3.1 in /home/gitpod/.pyenv/versions/3.8.16/lib/python3.8/site-packages (from -r /workspace/pp5_co2_oracle/requirements.txt (line 3)) (3.3.1)\n",
      "Requirement already satisfied: seaborn==0.11.0 in /home/gitpod/.pyenv/versions/3.8.16/lib/python3.8/site-packages (from -r /workspace/pp5_co2_oracle/requirements.txt (line 4)) (0.11.0)\n",
      "Requirement already satisfied: ydata-profiling==4.4.0 in /home/gitpod/.pyenv/versions/3.8.16/lib/python3.8/site-packages (from -r /workspace/pp5_co2_oracle/requirements.txt (line 5)) (4.4.0)\n",
      "Requirement already satisfied: plotly==4.12.0 in /home/gitpod/.pyenv/versions/3.8.16/lib/python3.8/site-packages (from -r /workspace/pp5_co2_oracle/requirements.txt (line 6)) (4.12.0)\n",
      "Requirement already satisfied: ppscore==1.2.0 in /home/gitpod/.pyenv/versions/3.8.16/lib/python3.8/site-packages (from -r /workspace/pp5_co2_oracle/requirements.txt (line 7)) (1.2.0)\n",
      "Requirement already satisfied: streamlit==0.85.0 in /home/gitpod/.pyenv/versions/3.8.16/lib/python3.8/site-packages (from -r /workspace/pp5_co2_oracle/requirements.txt (line 9)) (0.85.0)\n",
      "Requirement already satisfied: feature-engine==1.0.2 in /home/gitpod/.pyenv/versions/3.8.16/lib/python3.8/site-packages (from -r /workspace/pp5_co2_oracle/requirements.txt (line 11)) (1.0.2)\n",
      "Requirement already satisfied: imbalanced-learn==0.8.0 in /home/gitpod/.pyenv/versions/3.8.16/lib/python3.8/site-packages (from -r /workspace/pp5_co2_oracle/requirements.txt (line 12)) (0.8.0)\n",
      "Requirement already satisfied: scikit-learn==0.24.2 in /home/gitpod/.pyenv/versions/3.8.16/lib/python3.8/site-packages (from -r /workspace/pp5_co2_oracle/requirements.txt (line 13)) (0.24.2)\n",
      "Requirement already satisfied: xgboost==1.2.1 in /home/gitpod/.pyenv/versions/3.8.16/lib/python3.8/site-packages (from -r /workspace/pp5_co2_oracle/requirements.txt (line 14)) (1.2.1)\n",
      "Requirement already satisfied: yellowbrick==1.3 in /home/gitpod/.pyenv/versions/3.8.16/lib/python3.8/site-packages (from -r /workspace/pp5_co2_oracle/requirements.txt (line 15)) (1.3)\n",
      "Requirement already satisfied: Jinja2==3.1.1 in /home/gitpod/.pyenv/versions/3.8.16/lib/python3.8/site-packages (from -r /workspace/pp5_co2_oracle/requirements.txt (line 16)) (3.1.1)\n",
      "Requirement already satisfied: MarkupSafe==2.0.1 in /home/gitpod/.pyenv/versions/3.8.16/lib/python3.8/site-packages (from -r /workspace/pp5_co2_oracle/requirements.txt (line 17)) (2.0.1)\n",
      "Requirement already satisfied: protobuf==3.20 in /home/gitpod/.pyenv/versions/3.8.16/lib/python3.8/site-packages (from -r /workspace/pp5_co2_oracle/requirements.txt (line 18)) (3.20.0)\n",
      "Requirement already satisfied: ipywidgets==8.0.2 in /home/gitpod/.pyenv/versions/3.8.16/lib/python3.8/site-packages (from -r /workspace/pp5_co2_oracle/requirements.txt (line 19)) (8.0.2)\n",
      "Requirement already satisfied: altair<5 in /home/gitpod/.pyenv/versions/3.8.16/lib/python3.8/site-packages (from -r /workspace/pp5_co2_oracle/requirements.txt (line 20)) (4.2.2)\n",
      "Requirement already satisfied: nbformat>=4.2.0 in /home/gitpod/.pyenv/versions/3.8.16/lib/python3.8/site-packages (from -r /workspace/pp5_co2_oracle/requirements.txt (line 21)) (5.10.4)\n",
      "Requirement already satisfied: pytz>=2020.1 in /home/gitpod/.pyenv/versions/3.8.16/lib/python3.8/site-packages (from pandas==1.4.2->-r /workspace/pp5_co2_oracle/requirements.txt (line 2)) (2024.1)\n",
      "Requirement already satisfied: python-dateutil>=2.8.1 in /home/gitpod/.pyenv/versions/3.8.16/lib/python3.8/site-packages (from pandas==1.4.2->-r /workspace/pp5_co2_oracle/requirements.txt (line 2)) (2.9.0.post0)\n",
      "Requirement already satisfied: pyparsing!=2.0.4,!=2.1.2,!=2.1.6,>=2.0.3 in /home/gitpod/.pyenv/versions/3.8.16/lib/python3.8/site-packages (from matplotlib==3.3.1->-r /workspace/pp5_co2_oracle/requirements.txt (line 3)) (3.1.2)\n",
      "Requirement already satisfied: cycler>=0.10 in /home/gitpod/.pyenv/versions/3.8.16/lib/python3.8/site-packages (from matplotlib==3.3.1->-r /workspace/pp5_co2_oracle/requirements.txt (line 3)) (0.12.1)\n",
      "Requirement already satisfied: pillow>=6.2.0 in /home/gitpod/.pyenv/versions/3.8.16/lib/python3.8/site-packages (from matplotlib==3.3.1->-r /workspace/pp5_co2_oracle/requirements.txt (line 3)) (10.4.0)\n",
      "Requirement already satisfied: kiwisolver>=1.0.1 in /home/gitpod/.pyenv/versions/3.8.16/lib/python3.8/site-packages (from matplotlib==3.3.1->-r /workspace/pp5_co2_oracle/requirements.txt (line 3)) (1.4.5)\n",
      "Requirement already satisfied: certifi>=2020.06.20 in /home/gitpod/.pyenv/versions/3.8.16/lib/python3.8/site-packages (from matplotlib==3.3.1->-r /workspace/pp5_co2_oracle/requirements.txt (line 3)) (2024.7.4)\n",
      "Requirement already satisfied: scipy>=1.0 in /home/gitpod/.pyenv/versions/3.8.16/lib/python3.8/site-packages (from seaborn==0.11.0->-r /workspace/pp5_co2_oracle/requirements.txt (line 4)) (1.9.3)\n",
      "Requirement already satisfied: visions[type_image_path]==0.7.5 in /home/gitpod/.pyenv/versions/3.8.16/lib/python3.8/site-packages (from ydata-profiling==4.4.0->-r /workspace/pp5_co2_oracle/requirements.txt (line 5)) (0.7.5)\n",
      "Requirement already satisfied: requests<3,>=2.24.0 in /home/gitpod/.pyenv/versions/3.8.16/lib/python3.8/site-packages (from ydata-profiling==4.4.0->-r /workspace/pp5_co2_oracle/requirements.txt (line 5)) (2.32.3)\n",
      "Requirement already satisfied: multimethod<2,>=1.4 in /home/gitpod/.pyenv/versions/3.8.16/lib/python3.8/site-packages (from ydata-profiling==4.4.0->-r /workspace/pp5_co2_oracle/requirements.txt (line 5)) (1.10)\n",
      "Requirement already satisfied: wordcloud>=1.9.1 in /home/gitpod/.pyenv/versions/3.8.16/lib/python3.8/site-packages (from ydata-profiling==4.4.0->-r /workspace/pp5_co2_oracle/requirements.txt (line 5)) (1.9.3)\n",
      "Requirement already satisfied: pydantic<2,>=1.8.1 in /home/gitpod/.pyenv/versions/3.8.16/lib/python3.8/site-packages (from ydata-profiling==4.4.0->-r /workspace/pp5_co2_oracle/requirements.txt (line 5)) (1.10.17)\n",
      "Requirement already satisfied: phik<0.13,>=0.11.1 in /home/gitpod/.pyenv/versions/3.8.16/lib/python3.8/site-packages (from ydata-profiling==4.4.0->-r /workspace/pp5_co2_oracle/requirements.txt (line 5)) (0.12.4)\n",
      "Requirement already satisfied: tqdm<5,>=4.48.2 in /home/gitpod/.pyenv/versions/3.8.16/lib/python3.8/site-packages (from ydata-profiling==4.4.0->-r /workspace/pp5_co2_oracle/requirements.txt (line 5)) (4.66.4)\n",
      "Requirement already satisfied: dacite>=1.8 in /home/gitpod/.pyenv/versions/3.8.16/lib/python3.8/site-packages (from ydata-profiling==4.4.0->-r /workspace/pp5_co2_oracle/requirements.txt (line 5)) (1.8.1)\n",
      "Requirement already satisfied: statsmodels<1,>=0.13.2 in /home/gitpod/.pyenv/versions/3.8.16/lib/python3.8/site-packages (from ydata-profiling==4.4.0->-r /workspace/pp5_co2_oracle/requirements.txt (line 5)) (0.14.1)\n",
      "Requirement already satisfied: imagehash==4.3.1 in /home/gitpod/.pyenv/versions/3.8.16/lib/python3.8/site-packages (from ydata-profiling==4.4.0->-r /workspace/pp5_co2_oracle/requirements.txt (line 5)) (4.3.1)\n",
      "Requirement already satisfied: htmlmin==0.1.12 in /home/gitpod/.pyenv/versions/3.8.16/lib/python3.8/site-packages (from ydata-profiling==4.4.0->-r /workspace/pp5_co2_oracle/requirements.txt (line 5)) (0.1.12)\n",
      "Requirement already satisfied: PyYAML<6.1,>=5.0.0 in /home/gitpod/.pyenv/versions/3.8.16/lib/python3.8/site-packages (from ydata-profiling==4.4.0->-r /workspace/pp5_co2_oracle/requirements.txt (line 5)) (6.0.1)\n",
      "Requirement already satisfied: typeguard<3,>=2.13.2 in /home/gitpod/.pyenv/versions/3.8.16/lib/python3.8/site-packages (from ydata-profiling==4.4.0->-r /workspace/pp5_co2_oracle/requirements.txt (line 5)) (2.13.3)\n",
      "Requirement already satisfied: retrying>=1.3.3 in /home/gitpod/.pyenv/versions/3.8.16/lib/python3.8/site-packages (from plotly==4.12.0->-r /workspace/pp5_co2_oracle/requirements.txt (line 6)) (1.3.4)\n",
      "Requirement already satisfied: six in /home/gitpod/.pyenv/versions/3.8.16/lib/python3.8/site-packages (from plotly==4.12.0->-r /workspace/pp5_co2_oracle/requirements.txt (line 6)) (1.16.0)\n",
      "Requirement already satisfied: watchdog in /home/gitpod/.pyenv/versions/3.8.16/lib/python3.8/site-packages (from streamlit==0.85.0->-r /workspace/pp5_co2_oracle/requirements.txt (line 9)) (4.0.1)\n",
      "Requirement already satisfied: tzlocal in /home/gitpod/.pyenv/versions/3.8.16/lib/python3.8/site-packages (from streamlit==0.85.0->-r /workspace/pp5_co2_oracle/requirements.txt (line 9)) (5.2)\n",
      "Requirement already satisfied: pydeck>=0.1.dev5 in /home/gitpod/.pyenv/versions/3.8.16/lib/python3.8/site-packages (from streamlit==0.85.0->-r /workspace/pp5_co2_oracle/requirements.txt (line 9)) (0.9.1)\n",
      "Requirement already satisfied: attrs in /home/gitpod/.pyenv/versions/3.8.16/lib/python3.8/site-packages (from streamlit==0.85.0->-r /workspace/pp5_co2_oracle/requirements.txt (line 9)) (23.2.0)\n",
      "Requirement already satisfied: blinker in /home/gitpod/.pyenv/versions/3.8.16/lib/python3.8/site-packages (from streamlit==0.85.0->-r /workspace/pp5_co2_oracle/requirements.txt (line 9)) (1.8.2)\n",
      "Requirement already satisfied: packaging in /home/gitpod/.pyenv/versions/3.8.16/lib/python3.8/site-packages (from streamlit==0.85.0->-r /workspace/pp5_co2_oracle/requirements.txt (line 9)) (24.1)\n",
      "Requirement already satisfied: base58 in /home/gitpod/.pyenv/versions/3.8.16/lib/python3.8/site-packages (from streamlit==0.85.0->-r /workspace/pp5_co2_oracle/requirements.txt (line 9)) (2.1.1)\n",
      "Requirement already satisfied: gitpython in /home/gitpod/.pyenv/versions/3.8.16/lib/python3.8/site-packages (from streamlit==0.85.0->-r /workspace/pp5_co2_oracle/requirements.txt (line 9)) (3.1.43)\n",
      "Requirement already satisfied: pyarrow in /home/gitpod/.pyenv/versions/3.8.16/lib/python3.8/site-packages (from streamlit==0.85.0->-r /workspace/pp5_co2_oracle/requirements.txt (line 9)) (16.1.0)\n",
      "Requirement already satisfied: tornado>=5.0 in /home/gitpod/.pyenv/versions/3.8.16/lib/python3.8/site-packages (from streamlit==0.85.0->-r /workspace/pp5_co2_oracle/requirements.txt (line 9)) (6.4.1)\n",
      "Requirement already satisfied: validators in /home/gitpod/.pyenv/versions/3.8.16/lib/python3.8/site-packages (from streamlit==0.85.0->-r /workspace/pp5_co2_oracle/requirements.txt (line 9)) (0.33.0)\n",
      "Requirement already satisfied: toml in /home/gitpod/.pyenv/versions/3.8.16/lib/python3.8/site-packages (from streamlit==0.85.0->-r /workspace/pp5_co2_oracle/requirements.txt (line 9)) (0.10.2)\n",
      "Requirement already satisfied: cachetools>=4.0 in /home/gitpod/.pyenv/versions/3.8.16/lib/python3.8/site-packages (from streamlit==0.85.0->-r /workspace/pp5_co2_oracle/requirements.txt (line 9)) (5.3.3)\n",
      "Requirement already satisfied: astor in /home/gitpod/.pyenv/versions/3.8.16/lib/python3.8/site-packages (from streamlit==0.85.0->-r /workspace/pp5_co2_oracle/requirements.txt (line 9)) (0.8.1)\n",
      "Requirement already satisfied: click<8.0,>=7.0 in /home/gitpod/.pyenv/versions/3.8.16/lib/python3.8/site-packages (from streamlit==0.85.0->-r /workspace/pp5_co2_oracle/requirements.txt (line 9)) (7.1.2)\n",
      "Requirement already satisfied: joblib>=0.11 in /home/gitpod/.pyenv/versions/3.8.16/lib/python3.8/site-packages (from imbalanced-learn==0.8.0->-r /workspace/pp5_co2_oracle/requirements.txt (line 12)) (1.4.2)\n",
      "Requirement already satisfied: threadpoolctl>=2.0.0 in /home/gitpod/.pyenv/versions/3.8.16/lib/python3.8/site-packages (from scikit-learn==0.24.2->-r /workspace/pp5_co2_oracle/requirements.txt (line 13)) (3.5.0)\n",
      "Requirement already satisfied: jupyterlab-widgets~=3.0 in /home/gitpod/.pyenv/versions/3.8.16/lib/python3.8/site-packages (from ipywidgets==8.0.2->-r /workspace/pp5_co2_oracle/requirements.txt (line 19)) (3.0.11)\n",
      "Requirement already satisfied: traitlets>=4.3.1 in /home/gitpod/.pyenv/versions/3.8.16/lib/python3.8/site-packages (from ipywidgets==8.0.2->-r /workspace/pp5_co2_oracle/requirements.txt (line 19)) (5.14.3)\n",
      "Requirement already satisfied: ipykernel>=4.5.1 in /home/gitpod/.pyenv/versions/3.8.16/lib/python3.8/site-packages (from ipywidgets==8.0.2->-r /workspace/pp5_co2_oracle/requirements.txt (line 19)) (6.29.5)\n",
      "Requirement already satisfied: ipython>=6.1.0 in /home/gitpod/.pyenv/versions/3.8.16/lib/python3.8/site-packages (from ipywidgets==8.0.2->-r /workspace/pp5_co2_oracle/requirements.txt (line 19)) (8.12.3)\n",
      "Requirement already satisfied: widgetsnbextension~=4.0 in /home/gitpod/.pyenv/versions/3.8.16/lib/python3.8/site-packages (from ipywidgets==8.0.2->-r /workspace/pp5_co2_oracle/requirements.txt (line 19)) (4.0.11)\n",
      "Requirement already satisfied: PyWavelets in /home/gitpod/.pyenv/versions/3.8.16/lib/python3.8/site-packages (from imagehash==4.3.1->ydata-profiling==4.4.0->-r /workspace/pp5_co2_oracle/requirements.txt (line 5)) (1.4.1)\n",
      "Requirement already satisfied: networkx>=2.4 in /home/gitpod/.pyenv/versions/3.8.16/lib/python3.8/site-packages (from visions[type_image_path]==0.7.5->ydata-profiling==4.4.0->-r /workspace/pp5_co2_oracle/requirements.txt (line 5)) (3.1)\n",
      "Requirement already satisfied: tangled-up-in-unicode>=0.0.4 in /home/gitpod/.pyenv/versions/3.8.16/lib/python3.8/site-packages (from visions[type_image_path]==0.7.5->ydata-profiling==4.4.0->-r /workspace/pp5_co2_oracle/requirements.txt (line 5)) (0.2.0)\n",
      "Requirement already satisfied: toolz in /home/gitpod/.pyenv/versions/3.8.16/lib/python3.8/site-packages (from altair<5->-r /workspace/pp5_co2_oracle/requirements.txt (line 20)) (0.12.1)\n",
      "Requirement already satisfied: entrypoints in /home/gitpod/.pyenv/versions/3.8.16/lib/python3.8/site-packages (from altair<5->-r /workspace/pp5_co2_oracle/requirements.txt (line 20)) (0.4)\n",
      "Requirement already satisfied: jsonschema>=3.0 in /home/gitpod/.pyenv/versions/3.8.16/lib/python3.8/site-packages (from altair<5->-r /workspace/pp5_co2_oracle/requirements.txt (line 20)) (4.23.0)\n",
      "Requirement already satisfied: jupyter-core!=5.0.*,>=4.12 in /home/gitpod/.pyenv/versions/3.8.16/lib/python3.8/site-packages (from nbformat>=4.2.0->-r /workspace/pp5_co2_oracle/requirements.txt (line 21)) (5.7.2)\n",
      "Requirement already satisfied: fastjsonschema>=2.15 in /home/gitpod/.pyenv/versions/3.8.16/lib/python3.8/site-packages (from nbformat>=4.2.0->-r /workspace/pp5_co2_oracle/requirements.txt (line 21)) (2.20.0)\n",
      "Requirement already satisfied: nest-asyncio in /home/gitpod/.pyenv/versions/3.8.16/lib/python3.8/site-packages (from ipykernel>=4.5.1->ipywidgets==8.0.2->-r /workspace/pp5_co2_oracle/requirements.txt (line 19)) (1.6.0)\n",
      "Requirement already satisfied: debugpy>=1.6.5 in /home/gitpod/.pyenv/versions/3.8.16/lib/python3.8/site-packages (from ipykernel>=4.5.1->ipywidgets==8.0.2->-r /workspace/pp5_co2_oracle/requirements.txt (line 19)) (1.8.2)\n",
      "Requirement already satisfied: psutil in /home/gitpod/.pyenv/versions/3.8.16/lib/python3.8/site-packages (from ipykernel>=4.5.1->ipywidgets==8.0.2->-r /workspace/pp5_co2_oracle/requirements.txt (line 19)) (6.0.0)\n",
      "Requirement already satisfied: pyzmq>=24 in /home/gitpod/.pyenv/versions/3.8.16/lib/python3.8/site-packages (from ipykernel>=4.5.1->ipywidgets==8.0.2->-r /workspace/pp5_co2_oracle/requirements.txt (line 19)) (26.0.3)\n",
      "Requirement already satisfied: matplotlib-inline>=0.1 in /home/gitpod/.pyenv/versions/3.8.16/lib/python3.8/site-packages (from ipykernel>=4.5.1->ipywidgets==8.0.2->-r /workspace/pp5_co2_oracle/requirements.txt (line 19)) (0.1.7)\n",
      "Requirement already satisfied: comm>=0.1.1 in /home/gitpod/.pyenv/versions/3.8.16/lib/python3.8/site-packages (from ipykernel>=4.5.1->ipywidgets==8.0.2->-r /workspace/pp5_co2_oracle/requirements.txt (line 19)) (0.2.2)\n",
      "Requirement already satisfied: jupyter-client>=6.1.12 in /home/gitpod/.pyenv/versions/3.8.16/lib/python3.8/site-packages (from ipykernel>=4.5.1->ipywidgets==8.0.2->-r /workspace/pp5_co2_oracle/requirements.txt (line 19)) (8.6.2)\n",
      "Requirement already satisfied: stack-data in /home/gitpod/.pyenv/versions/3.8.16/lib/python3.8/site-packages (from ipython>=6.1.0->ipywidgets==8.0.2->-r /workspace/pp5_co2_oracle/requirements.txt (line 19)) (0.6.3)\n",
      "Requirement already satisfied: pexpect>4.3 in /home/gitpod/.pyenv/versions/3.8.16/lib/python3.8/site-packages (from ipython>=6.1.0->ipywidgets==8.0.2->-r /workspace/pp5_co2_oracle/requirements.txt (line 19)) (4.9.0)\n",
      "Requirement already satisfied: decorator in /home/gitpod/.pyenv/versions/3.8.16/lib/python3.8/site-packages (from ipython>=6.1.0->ipywidgets==8.0.2->-r /workspace/pp5_co2_oracle/requirements.txt (line 19)) (5.1.1)\n",
      "Requirement already satisfied: jedi>=0.16 in /home/gitpod/.pyenv/versions/3.8.16/lib/python3.8/site-packages (from ipython>=6.1.0->ipywidgets==8.0.2->-r /workspace/pp5_co2_oracle/requirements.txt (line 19)) (0.19.1)\n",
      "Requirement already satisfied: typing-extensions in /home/gitpod/.pyenv/versions/3.8.16/lib/python3.8/site-packages (from ipython>=6.1.0->ipywidgets==8.0.2->-r /workspace/pp5_co2_oracle/requirements.txt (line 19)) (4.12.2)\n",
      "Requirement already satisfied: pickleshare in /home/gitpod/.pyenv/versions/3.8.16/lib/python3.8/site-packages (from ipython>=6.1.0->ipywidgets==8.0.2->-r /workspace/pp5_co2_oracle/requirements.txt (line 19)) (0.7.5)\n",
      "Requirement already satisfied: prompt-toolkit!=3.0.37,<3.1.0,>=3.0.30 in /home/gitpod/.pyenv/versions/3.8.16/lib/python3.8/site-packages (from ipython>=6.1.0->ipywidgets==8.0.2->-r /workspace/pp5_co2_oracle/requirements.txt (line 19)) (3.0.47)\n",
      "Requirement already satisfied: pygments>=2.4.0 in /home/gitpod/.pyenv/versions/3.8.16/lib/python3.8/site-packages (from ipython>=6.1.0->ipywidgets==8.0.2->-r /workspace/pp5_co2_oracle/requirements.txt (line 19)) (2.18.0)\n",
      "Requirement already satisfied: backcall in /home/gitpod/.pyenv/versions/3.8.16/lib/python3.8/site-packages (from ipython>=6.1.0->ipywidgets==8.0.2->-r /workspace/pp5_co2_oracle/requirements.txt (line 19)) (0.2.0)\n",
      "Requirement already satisfied: rpds-py>=0.7.1 in /home/gitpod/.pyenv/versions/3.8.16/lib/python3.8/site-packages (from jsonschema>=3.0->altair<5->-r /workspace/pp5_co2_oracle/requirements.txt (line 20)) (0.19.0)\n",
      "Requirement already satisfied: importlib-resources>=1.4.0 in /home/gitpod/.pyenv/versions/3.8.16/lib/python3.8/site-packages (from jsonschema>=3.0->altair<5->-r /workspace/pp5_co2_oracle/requirements.txt (line 20)) (6.4.0)\n",
      "Requirement already satisfied: referencing>=0.28.4 in /home/gitpod/.pyenv/versions/3.8.16/lib/python3.8/site-packages (from jsonschema>=3.0->altair<5->-r /workspace/pp5_co2_oracle/requirements.txt (line 20)) (0.35.1)\n",
      "Requirement already satisfied: jsonschema-specifications>=2023.03.6 in /home/gitpod/.pyenv/versions/3.8.16/lib/python3.8/site-packages (from jsonschema>=3.0->altair<5->-r /workspace/pp5_co2_oracle/requirements.txt (line 20)) (2023.12.1)\n",
      "Requirement already satisfied: pkgutil-resolve-name>=1.3.10 in /home/gitpod/.pyenv/versions/3.8.16/lib/python3.8/site-packages (from jsonschema>=3.0->altair<5->-r /workspace/pp5_co2_oracle/requirements.txt (line 20)) (1.3.10)\n",
      "Requirement already satisfied: platformdirs>=2.5 in /home/gitpod/.pyenv/versions/3.8.16/lib/python3.8/site-packages (from jupyter-core!=5.0.*,>=4.12->nbformat>=4.2.0->-r /workspace/pp5_co2_oracle/requirements.txt (line 21)) (4.2.2)\n",
      "Requirement already satisfied: urllib3<3,>=1.21.1 in /home/gitpod/.pyenv/versions/3.8.16/lib/python3.8/site-packages (from requests<3,>=2.24.0->ydata-profiling==4.4.0->-r /workspace/pp5_co2_oracle/requirements.txt (line 5)) (2.2.2)\n",
      "Requirement already satisfied: idna<4,>=2.5 in /home/gitpod/.pyenv/versions/3.8.16/lib/python3.8/site-packages (from requests<3,>=2.24.0->ydata-profiling==4.4.0->-r /workspace/pp5_co2_oracle/requirements.txt (line 5)) (3.7)\n",
      "Requirement already satisfied: charset-normalizer<4,>=2 in /home/gitpod/.pyenv/versions/3.8.16/lib/python3.8/site-packages (from requests<3,>=2.24.0->ydata-profiling==4.4.0->-r /workspace/pp5_co2_oracle/requirements.txt (line 5)) (3.3.2)\n",
      "Requirement already satisfied: patsy>=0.5.4 in /home/gitpod/.pyenv/versions/3.8.16/lib/python3.8/site-packages (from statsmodels<1,>=0.13.2->ydata-profiling==4.4.0->-r /workspace/pp5_co2_oracle/requirements.txt (line 5)) (0.5.6)\n",
      "Requirement already satisfied: gitdb<5,>=4.0.1 in /home/gitpod/.pyenv/versions/3.8.16/lib/python3.8/site-packages (from gitpython->streamlit==0.85.0->-r /workspace/pp5_co2_oracle/requirements.txt (line 9)) (4.0.11)\n",
      "Requirement already satisfied: backports.zoneinfo in /home/gitpod/.pyenv/versions/3.8.16/lib/python3.8/site-packages (from tzlocal->streamlit==0.85.0->-r /workspace/pp5_co2_oracle/requirements.txt (line 9)) (0.2.1)\n",
      "Requirement already satisfied: smmap<6,>=3.0.1 in /home/gitpod/.pyenv/versions/3.8.16/lib/python3.8/site-packages (from gitdb<5,>=4.0.1->gitpython->streamlit==0.85.0->-r /workspace/pp5_co2_oracle/requirements.txt (line 9)) (5.0.1)\n",
      "Requirement already satisfied: zipp>=3.1.0 in /home/gitpod/.pyenv/versions/3.8.16/lib/python3.8/site-packages (from importlib-resources>=1.4.0->jsonschema>=3.0->altair<5->-r /workspace/pp5_co2_oracle/requirements.txt (line 20)) (3.19.2)\n",
      "Requirement already satisfied: parso<0.9.0,>=0.8.3 in /home/gitpod/.pyenv/versions/3.8.16/lib/python3.8/site-packages (from jedi>=0.16->ipython>=6.1.0->ipywidgets==8.0.2->-r /workspace/pp5_co2_oracle/requirements.txt (line 19)) (0.8.4)\n",
      "Requirement already satisfied: importlib-metadata>=4.8.3 in /home/gitpod/.pyenv/versions/3.8.16/lib/python3.8/site-packages (from jupyter-client>=6.1.12->ipykernel>=4.5.1->ipywidgets==8.0.2->-r /workspace/pp5_co2_oracle/requirements.txt (line 19)) (8.0.0)\n",
      "Requirement already satisfied: ptyprocess>=0.5 in /home/gitpod/.pyenv/versions/3.8.16/lib/python3.8/site-packages (from pexpect>4.3->ipython>=6.1.0->ipywidgets==8.0.2->-r /workspace/pp5_co2_oracle/requirements.txt (line 19)) (0.7.0)\n",
      "Requirement already satisfied: wcwidth in /home/gitpod/.pyenv/versions/3.8.16/lib/python3.8/site-packages (from prompt-toolkit!=3.0.37,<3.1.0,>=3.0.30->ipython>=6.1.0->ipywidgets==8.0.2->-r /workspace/pp5_co2_oracle/requirements.txt (line 19)) (0.2.13)\n",
      "Requirement already satisfied: executing>=1.2.0 in /home/gitpod/.pyenv/versions/3.8.16/lib/python3.8/site-packages (from stack-data->ipython>=6.1.0->ipywidgets==8.0.2->-r /workspace/pp5_co2_oracle/requirements.txt (line 19)) (2.0.1)\n",
      "Requirement already satisfied: pure-eval in /home/gitpod/.pyenv/versions/3.8.16/lib/python3.8/site-packages (from stack-data->ipython>=6.1.0->ipywidgets==8.0.2->-r /workspace/pp5_co2_oracle/requirements.txt (line 19)) (0.2.2)\n",
      "Requirement already satisfied: asttokens>=2.1.0 in /home/gitpod/.pyenv/versions/3.8.16/lib/python3.8/site-packages (from stack-data->ipython>=6.1.0->ipywidgets==8.0.2->-r /workspace/pp5_co2_oracle/requirements.txt (line 19)) (2.4.1)\n",
      "\u001b[33mWARNING: You are using pip version 22.0.4; however, version 24.1.2 is available.\n",
      "You should consider upgrading via the '/home/gitpod/.pyenv/versions/3.8.16/bin/python -m pip install --upgrade pip' command.\u001b[0m\u001b[33m\n",
      "\u001b[0mNote: you may need to restart the kernel to use updated packages.\n"
     ]
    }
   ],
   "source": [
    "%pip install -r /workspace/pp5_co2_oracle/requirements.txt"
   ]
  },
  {
   "cell_type": "markdown",
   "metadata": {},
   "source": [
    "# Change working directory"
   ]
  },
  {
   "cell_type": "markdown",
   "metadata": {},
   "source": [
    "We need to change the working directory from its current folder to its parent folder\n",
    "-    We access the current directory with os.getcwd()"
   ]
  },
  {
   "cell_type": "code",
   "execution_count": 2,
   "metadata": {},
   "outputs": [
    {
     "data": {
      "text/plain": [
       "'/workspace/pp5_co2_oracle/jupyter_notebooks'"
      ]
     },
     "execution_count": 2,
     "metadata": {},
     "output_type": "execute_result"
    }
   ],
   "source": [
    "import os\n",
    "current_dir = os.getcwd()\n",
    "current_dir"
   ]
  },
  {
   "cell_type": "markdown",
   "metadata": {},
   "source": [
    "We want to make the parent of the current directory the new current directory.\n",
    "- os.path.dirname() gets the parent directory\n",
    "- os.chir() defines the new current directory"
   ]
  },
  {
   "cell_type": "code",
   "execution_count": 3,
   "metadata": {},
   "outputs": [
    {
     "name": "stdout",
     "output_type": "stream",
     "text": [
      "You set a new current directory\n"
     ]
    }
   ],
   "source": [
    "os.chdir(os.path.dirname(current_dir))\n",
    "print(\"You set a new current directory\")"
   ]
  },
  {
   "cell_type": "markdown",
   "metadata": {},
   "source": [
    "Confirm the new current directory"
   ]
  },
  {
   "cell_type": "code",
   "execution_count": 4,
   "metadata": {},
   "outputs": [
    {
     "data": {
      "text/plain": [
       "'/workspace/pp5_co2_oracle'"
      ]
     },
     "execution_count": 4,
     "metadata": {},
     "output_type": "execute_result"
    }
   ],
   "source": [
    "current_dir = os.getcwd()\n",
    "current_dir"
   ]
  },
  {
   "cell_type": "markdown",
   "metadata": {},
   "source": [
    "## Load Collected data"
   ]
  },
  {
   "cell_type": "code",
   "execution_count": 5,
   "metadata": {},
   "outputs": [
    {
     "name": "stdout",
     "output_type": "stream",
     "text": [
      "     Country                               Year   Total          \\\n",
      "200  Afghanistan                            1950  0.084272        \n",
      "201  Afghanistan                            1951  0.0916          \n",
      "202  Afghanistan                            1952  0.0916          \n",
      "203  Afghanistan                            1953  0.106256        \n",
      "204  Afghanistan                            1954  0.106256        \n",
      "..                                    ...    ...            ...   \n",
      "495  Albania                                1973  5.286406        \n",
      "496  Albania                                1974  4.341512        \n",
      "497  Albania                                1975  4.591172        \n",
      "498  Albania                                1976  4.947198        \n",
      "499  Albania                                1977  5.717343        \n",
      "\n",
      "     Coal           Oil            Gas           Cement        Flaring      \\\n",
      "200  0.021068       0.063204       0.0              0.0        0.0           \n",
      "201  0.025648       0.065952       0.0              0.0        0.0           \n",
      "202  0.031708       0.059892       0.0              0.0        0.0           \n",
      "203  0.037949       0.068307       0.0              0.0        0.0           \n",
      "204  0.042502       0.063754       0.0              0.0        0.0           \n",
      "..             ...            ...           ...           ...          ...   \n",
      "495  1.168816       3.495456       0.3664           0.255734   0.0           \n",
      "496  1.210141       2.42395        0.42905          0.278371   0.0           \n",
      "497  1.260416       2.45488        0.553264         0.322612   0.0           \n",
      "498  1.27235        2.654702       0.671009         0.349136   0.0           \n",
      "499  1.699007       2.943969       0.699376         0.374992   0.0           \n",
      "\n",
      "     Other        Per Capita  \n",
      "200                 0.011266  \n",
      "201                 0.012098  \n",
      "202                 0.011946  \n",
      "203                 0.013685  \n",
      "204                 0.013511  \n",
      "..           ...         ...  \n",
      "495                 2.097417  \n",
      "496                 1.679208  \n",
      "497                 1.732438  \n",
      "498                 1.823139  \n",
      "499                 2.060456  \n",
      "\n",
      "[100 rows x 10 columns]\n"
     ]
    }
   ],
   "source": [
    "import pandas as pd\n",
    "\n",
    "# Define the path to your raw CSV file\n",
    "df_raw_path = \"outputs/datasets/collection/Co2Emissions.csv\"\n",
    "\n",
    "# Read the CSV file into a DataFrame\n",
    "df = pd.read_csv(df_raw_path)\n",
    "\n",
    "# Drop rows with any NaN values\n",
    "df = df.dropna()\n",
    "\n",
    "# Display the first 100 rows of the cleaned DataFrame\n",
    "print(df.head(100))\n"
   ]
  },
  {
   "cell_type": "markdown",
   "metadata": {},
   "source": [
    "## Data Exploration\n",
    "\n",
    "- In Data Cleaning I'm interested to check the distribution and shape of a variable with missing data."
   ]
  },
  {
   "cell_type": "code",
   "execution_count": 6,
   "metadata": {},
   "outputs": [
    {
     "data": {
      "text/plain": [
       "[]"
      ]
     },
     "execution_count": 6,
     "metadata": {},
     "output_type": "execute_result"
    }
   ],
   "source": [
    "vars_with_missing_data = df.columns[df.isna().sum() > 0].to_list()\n",
    "vars_with_missing_data"
   ]
  },
  {
   "cell_type": "code",
   "execution_count": 7,
   "metadata": {},
   "outputs": [
    {
     "name": "stdout",
     "output_type": "stream",
     "text": [
      "There are no variables with missing data\n"
     ]
    }
   ],
   "source": [
    "from ydata_profiling import ProfileReport\n",
    "if vars_with_missing_data:\n",
    "    profile = ProfileReport(df=df[vars_with_missing_data], minimal=True)\n",
    "    profile.to_notebook_iframe()\n",
    "else:\n",
    "    print(\"There are no variables with missing data\")"
   ]
  },
  {
   "cell_type": "markdown",
   "metadata": {},
   "source": [
    "## Correlation and PPS Analysis"
   ]
  },
  {
   "cell_type": "code",
   "execution_count": 29,
   "metadata": {},
   "outputs": [],
   "source": [
    "import numpy as np\n",
    "import matplotlib.pyplot as plt\n",
    "import seaborn as sns\n",
    "import ppscore as pps\n",
    "\n",
    "# Strip any leading/trailing spaces from column names\n",
    "df.columns = df.columns.str.strip()\n",
    "\n",
    "\n",
    "def heatmap_corr(df, threshold, figsize=(20, 12), font_annot=8):\n",
    "    if len(df.columns) > 1:\n",
    "        mask = np.zeros_like(df, dtype=bool)\n",
    "        mask[np.triu_indices_from(mask)] = True\n",
    "        mask[abs(df) < threshold] = True\n",
    "\n",
    "        fig, axes = plt.subplots(figsize=figsize)\n",
    "        sns.heatmap(df, annot=True, xticklabels=True, yticklabels=True,\n",
    "                    mask=mask, cmap='viridis', annot_kws={\"size\": font_annot}, ax=axes,\n",
    "                    linewidth=0.5\n",
    "                    )\n",
    "        axes.set_yticklabels(df.columns, rotation=0)\n",
    "        plt.ylim(len(df.columns), 0)\n",
    "        plt.show()\n",
    "\n",
    "\n",
    "def heatmap_pps(df, threshold, figsize=(20, 12), font_annot=8):\n",
    "    if len(df.columns) > 1:\n",
    "        mask = np.zeros_like(df, dtype=bool)\n",
    "        mask[abs(df) < threshold] = True\n",
    "        fig, ax = plt.subplots(figsize=figsize)\n",
    "        ax = sns.heatmap(df, annot=True, xticklabels=True, yticklabels=True,\n",
    "                         mask=mask, cmap='rocket_r', annot_kws={\"size\": font_annot},\n",
    "                         linewidth=0.05, linecolor='grey')\n",
    "        plt.ylim(len(df.columns), 0)\n",
    "        plt.show()\n",
    "\n",
    "\n",
    "def CalculateCorrAndPPS(df):\n",
    "    df_corr_spearman = df.corr(method=\"spearman\")\n",
    "    df_corr_pearson = df.corr(method=\"pearson\")\n",
    "\n",
    "    pps_matrix_raw = pps.matrix(df)\n",
    "    pps_matrix = pps_matrix_raw.filter(['x', 'y', 'ppscore']).pivot(columns='x', index='y', values='ppscore')\n",
    "\n",
    "    pps_score_stats = pps_matrix_raw.query(\"ppscore < 1\").filter(['ppscore']).describe().T\n",
    "    print(\"PPS threshold - check PPS score IQR to decide threshold for heatmap \\n\")\n",
    "    print(pps_score_stats.round(3))\n",
    "\n",
    "    return df_corr_pearson, df_corr_spearman, pps_matrix\n",
    "\n",
    "\n",
    "def DisplayCorrAndPPS(df_corr_pearson, df_corr_spearman, pps_matrix, CorrThreshold, PPS_Threshold,\n",
    "                      figsize=(20, 12), font_annot=8):\n",
    "\n",
    "    print(\"\\n\")\n",
    "    print(\"* Analyse how the target variable for your ML models are correlated with other variables (features and target)\")\n",
    "    print(\"* Analyse multi-colinearity, that is, how the features are correlated among themselves\")\n",
    "\n",
    "    print(\"\\n\")\n",
    "    print(\"*** Heatmap: Spearman Correlation ***\")\n",
    "    print(\"It evaluates monotonic relationship \\n\")\n",
    "    heatmap_corr(df=df_corr_spearman, threshold=CorrThreshold, figsize=figsize, font_annot=font_annot)\n",
    "\n",
    "    print(\"\\n\")\n",
    "    print(\"*** Heatmap: Pearson Correlation ***\")\n",
    "    print(\"It evaluates the linear relationship between two continuous variables \\n\")\n",
    "    heatmap_corr(df=df_corr_pearson, threshold=CorrThreshold, figsize=figsize, font_annot=font_annot)\n",
    "\n",
    "    print(\"\\n\")\n",
    "    print(\"*** Heatmap: Power Predictive Score (PPS) ***\")\n",
    "    print(f\"PPS detects linear or non-linear relationships between two columns.\\n\"\n",
    "          f\"The score ranges from 0 (no predictive power) to 1 (perfect predictive power) \\n\")\n",
    "    heatmap_pps(df=pps_matrix, threshold=PPS_Threshold, figsize=figsize, font_annot=font_annot)\n",
    "\n"
   ]
  },
  {
   "cell_type": "markdown",
   "metadata": {},
   "source": [
    "Calculate Correlations and Power Predictive Score"
   ]
  },
  {
   "cell_type": "code",
   "execution_count": 30,
   "metadata": {},
   "outputs": [
    {
     "name": "stderr",
     "output_type": "stream",
     "text": [
      "/home/gitpod/.pyenv/versions/3.8.16/lib/python3.8/site-packages/sklearn/model_selection/_split.py:666: UserWarning: The least populated class in y has only 1 members, which is less than n_splits=4.\n",
      "  warnings.warn((\"The least populated class in y has only %d\"\n",
      "/home/gitpod/.pyenv/versions/3.8.16/lib/python3.8/site-packages/sklearn/model_selection/_split.py:666: UserWarning: The least populated class in y has only 1 members, which is less than n_splits=4.\n",
      "  warnings.warn((\"The least populated class in y has only %d\"\n",
      "/home/gitpod/.pyenv/versions/3.8.16/lib/python3.8/site-packages/sklearn/model_selection/_split.py:666: UserWarning: The least populated class in y has only 1 members, which is less than n_splits=4.\n",
      "  warnings.warn((\"The least populated class in y has only %d\"\n",
      "/home/gitpod/.pyenv/versions/3.8.16/lib/python3.8/site-packages/sklearn/model_selection/_split.py:666: UserWarning: The least populated class in y has only 1 members, which is less than n_splits=4.\n",
      "  warnings.warn((\"The least populated class in y has only %d\"\n",
      "/home/gitpod/.pyenv/versions/3.8.16/lib/python3.8/site-packages/sklearn/model_selection/_split.py:666: UserWarning: The least populated class in y has only 1 members, which is less than n_splits=4.\n",
      "  warnings.warn((\"The least populated class in y has only %d\"\n",
      "/home/gitpod/.pyenv/versions/3.8.16/lib/python3.8/site-packages/sklearn/model_selection/_split.py:666: UserWarning: The least populated class in y has only 1 members, which is less than n_splits=4.\n",
      "  warnings.warn((\"The least populated class in y has only %d\"\n",
      "/home/gitpod/.pyenv/versions/3.8.16/lib/python3.8/site-packages/sklearn/model_selection/_split.py:666: UserWarning: The least populated class in y has only 1 members, which is less than n_splits=4.\n",
      "  warnings.warn((\"The least populated class in y has only %d\"\n",
      "/home/gitpod/.pyenv/versions/3.8.16/lib/python3.8/site-packages/sklearn/model_selection/_split.py:666: UserWarning: The least populated class in y has only 1 members, which is less than n_splits=4.\n",
      "  warnings.warn((\"The least populated class in y has only %d\"\n",
      "/home/gitpod/.pyenv/versions/3.8.16/lib/python3.8/site-packages/sklearn/model_selection/_split.py:666: UserWarning: The least populated class in y has only 1 members, which is less than n_splits=4.\n",
      "  warnings.warn((\"The least populated class in y has only %d\"\n",
      "/home/gitpod/.pyenv/versions/3.8.16/lib/python3.8/site-packages/sklearn/model_selection/_split.py:666: UserWarning: The least populated class in y has only 1 members, which is less than n_splits=4.\n",
      "  warnings.warn((\"The least populated class in y has only %d\"\n",
      "/home/gitpod/.pyenv/versions/3.8.16/lib/python3.8/site-packages/sklearn/model_selection/_split.py:666: UserWarning: The least populated class in y has only 1 members, which is less than n_splits=4.\n",
      "  warnings.warn((\"The least populated class in y has only %d\"\n",
      "/home/gitpod/.pyenv/versions/3.8.16/lib/python3.8/site-packages/sklearn/model_selection/_split.py:666: UserWarning: The least populated class in y has only 1 members, which is less than n_splits=4.\n",
      "  warnings.warn((\"The least populated class in y has only %d\"\n",
      "/home/gitpod/.pyenv/versions/3.8.16/lib/python3.8/site-packages/sklearn/model_selection/_split.py:666: UserWarning: The least populated class in y has only 1 members, which is less than n_splits=4.\n",
      "  warnings.warn((\"The least populated class in y has only %d\"\n",
      "/home/gitpod/.pyenv/versions/3.8.16/lib/python3.8/site-packages/sklearn/model_selection/_split.py:666: UserWarning: The least populated class in y has only 1 members, which is less than n_splits=4.\n",
      "  warnings.warn((\"The least populated class in y has only %d\"\n",
      "/home/gitpod/.pyenv/versions/3.8.16/lib/python3.8/site-packages/sklearn/model_selection/_split.py:666: UserWarning: The least populated class in y has only 1 members, which is less than n_splits=4.\n",
      "  warnings.warn((\"The least populated class in y has only %d\"\n",
      "/home/gitpod/.pyenv/versions/3.8.16/lib/python3.8/site-packages/sklearn/model_selection/_split.py:666: UserWarning: The least populated class in y has only 1 members, which is less than n_splits=4.\n",
      "  warnings.warn((\"The least populated class in y has only %d\"\n",
      "/home/gitpod/.pyenv/versions/3.8.16/lib/python3.8/site-packages/sklearn/model_selection/_split.py:666: UserWarning: The least populated class in y has only 1 members, which is less than n_splits=4.\n",
      "  warnings.warn((\"The least populated class in y has only %d\"\n",
      "/home/gitpod/.pyenv/versions/3.8.16/lib/python3.8/site-packages/sklearn/model_selection/_split.py:666: UserWarning: The least populated class in y has only 1 members, which is less than n_splits=4.\n",
      "  warnings.warn((\"The least populated class in y has only %d\"\n",
      "/home/gitpod/.pyenv/versions/3.8.16/lib/python3.8/site-packages/sklearn/model_selection/_split.py:666: UserWarning: The least populated class in y has only 1 members, which is less than n_splits=4.\n",
      "  warnings.warn((\"The least populated class in y has only %d\"\n",
      "/home/gitpod/.pyenv/versions/3.8.16/lib/python3.8/site-packages/sklearn/model_selection/_split.py:666: UserWarning: The least populated class in y has only 1 members, which is less than n_splits=4.\n",
      "  warnings.warn((\"The least populated class in y has only %d\"\n",
      "/home/gitpod/.pyenv/versions/3.8.16/lib/python3.8/site-packages/sklearn/model_selection/_split.py:666: UserWarning: The least populated class in y has only 1 members, which is less than n_splits=4.\n",
      "  warnings.warn((\"The least populated class in y has only %d\"\n",
      "/home/gitpod/.pyenv/versions/3.8.16/lib/python3.8/site-packages/sklearn/model_selection/_split.py:666: UserWarning: The least populated class in y has only 1 members, which is less than n_splits=4.\n",
      "  warnings.warn((\"The least populated class in y has only %d\"\n",
      "/home/gitpod/.pyenv/versions/3.8.16/lib/python3.8/site-packages/sklearn/model_selection/_split.py:666: UserWarning: The least populated class in y has only 1 members, which is less than n_splits=4.\n",
      "  warnings.warn((\"The least populated class in y has only %d\"\n",
      "/home/gitpod/.pyenv/versions/3.8.16/lib/python3.8/site-packages/sklearn/model_selection/_split.py:666: UserWarning: The least populated class in y has only 1 members, which is less than n_splits=4.\n",
      "  warnings.warn((\"The least populated class in y has only %d\"\n",
      "/home/gitpod/.pyenv/versions/3.8.16/lib/python3.8/site-packages/sklearn/model_selection/_split.py:666: UserWarning: The least populated class in y has only 1 members, which is less than n_splits=4.\n",
      "  warnings.warn((\"The least populated class in y has only %d\"\n",
      "/home/gitpod/.pyenv/versions/3.8.16/lib/python3.8/site-packages/sklearn/model_selection/_split.py:666: UserWarning: The least populated class in y has only 1 members, which is less than n_splits=4.\n",
      "  warnings.warn((\"The least populated class in y has only %d\"\n",
      "/home/gitpod/.pyenv/versions/3.8.16/lib/python3.8/site-packages/sklearn/model_selection/_split.py:666: UserWarning: The least populated class in y has only 1 members, which is less than n_splits=4.\n",
      "  warnings.warn((\"The least populated class in y has only %d\"\n",
      "/home/gitpod/.pyenv/versions/3.8.16/lib/python3.8/site-packages/sklearn/model_selection/_split.py:666: UserWarning: The least populated class in y has only 1 members, which is less than n_splits=4.\n",
      "  warnings.warn((\"The least populated class in y has only %d\"\n",
      "/home/gitpod/.pyenv/versions/3.8.16/lib/python3.8/site-packages/sklearn/model_selection/_split.py:666: UserWarning: The least populated class in y has only 1 members, which is less than n_splits=4.\n",
      "  warnings.warn((\"The least populated class in y has only %d\"\n",
      "/home/gitpod/.pyenv/versions/3.8.16/lib/python3.8/site-packages/sklearn/model_selection/_split.py:666: UserWarning: The least populated class in y has only 1 members, which is less than n_splits=4.\n",
      "  warnings.warn((\"The least populated class in y has only %d\"\n",
      "/home/gitpod/.pyenv/versions/3.8.16/lib/python3.8/site-packages/sklearn/model_selection/_split.py:666: UserWarning: The least populated class in y has only 1 members, which is less than n_splits=4.\n",
      "  warnings.warn((\"The least populated class in y has only %d\"\n",
      "/home/gitpod/.pyenv/versions/3.8.16/lib/python3.8/site-packages/sklearn/model_selection/_split.py:666: UserWarning: The least populated class in y has only 1 members, which is less than n_splits=4.\n",
      "  warnings.warn((\"The least populated class in y has only %d\"\n",
      "/home/gitpod/.pyenv/versions/3.8.16/lib/python3.8/site-packages/sklearn/model_selection/_split.py:666: UserWarning: The least populated class in y has only 1 members, which is less than n_splits=4.\n",
      "  warnings.warn((\"The least populated class in y has only %d\"\n",
      "/home/gitpod/.pyenv/versions/3.8.16/lib/python3.8/site-packages/sklearn/model_selection/_split.py:666: UserWarning: The least populated class in y has only 1 members, which is less than n_splits=4.\n",
      "  warnings.warn((\"The least populated class in y has only %d\"\n",
      "/home/gitpod/.pyenv/versions/3.8.16/lib/python3.8/site-packages/sklearn/model_selection/_split.py:666: UserWarning: The least populated class in y has only 1 members, which is less than n_splits=4.\n",
      "  warnings.warn((\"The least populated class in y has only %d\"\n",
      "/home/gitpod/.pyenv/versions/3.8.16/lib/python3.8/site-packages/sklearn/model_selection/_split.py:666: UserWarning: The least populated class in y has only 1 members, which is less than n_splits=4.\n",
      "  warnings.warn((\"The least populated class in y has only %d\"\n",
      "/home/gitpod/.pyenv/versions/3.8.16/lib/python3.8/site-packages/sklearn/model_selection/_split.py:666: UserWarning: The least populated class in y has only 1 members, which is less than n_splits=4.\n",
      "  warnings.warn((\"The least populated class in y has only %d\"\n",
      "/home/gitpod/.pyenv/versions/3.8.16/lib/python3.8/site-packages/sklearn/model_selection/_split.py:666: UserWarning: The least populated class in y has only 1 members, which is less than n_splits=4.\n",
      "  warnings.warn((\"The least populated class in y has only %d\"\n",
      "/home/gitpod/.pyenv/versions/3.8.16/lib/python3.8/site-packages/sklearn/model_selection/_split.py:666: UserWarning: The least populated class in y has only 1 members, which is less than n_splits=4.\n",
      "  warnings.warn((\"The least populated class in y has only %d\"\n",
      "/home/gitpod/.pyenv/versions/3.8.16/lib/python3.8/site-packages/sklearn/model_selection/_split.py:666: UserWarning: The least populated class in y has only 1 members, which is less than n_splits=4.\n",
      "  warnings.warn((\"The least populated class in y has only %d\"\n",
      "/home/gitpod/.pyenv/versions/3.8.16/lib/python3.8/site-packages/sklearn/model_selection/_split.py:666: UserWarning: The least populated class in y has only 1 members, which is less than n_splits=4.\n",
      "  warnings.warn((\"The least populated class in y has only %d\"\n",
      "/home/gitpod/.pyenv/versions/3.8.16/lib/python3.8/site-packages/sklearn/model_selection/_split.py:666: UserWarning: The least populated class in y has only 1 members, which is less than n_splits=4.\n",
      "  warnings.warn((\"The least populated class in y has only %d\"\n",
      "/home/gitpod/.pyenv/versions/3.8.16/lib/python3.8/site-packages/sklearn/model_selection/_split.py:666: UserWarning: The least populated class in y has only 1 members, which is less than n_splits=4.\n",
      "  warnings.warn((\"The least populated class in y has only %d\"\n",
      "/home/gitpod/.pyenv/versions/3.8.16/lib/python3.8/site-packages/sklearn/model_selection/_split.py:666: UserWarning: The least populated class in y has only 1 members, which is less than n_splits=4.\n",
      "  warnings.warn((\"The least populated class in y has only %d\"\n",
      "/home/gitpod/.pyenv/versions/3.8.16/lib/python3.8/site-packages/sklearn/model_selection/_split.py:666: UserWarning: The least populated class in y has only 1 members, which is less than n_splits=4.\n",
      "  warnings.warn((\"The least populated class in y has only %d\"\n",
      "/home/gitpod/.pyenv/versions/3.8.16/lib/python3.8/site-packages/sklearn/model_selection/_split.py:666: UserWarning: The least populated class in y has only 1 members, which is less than n_splits=4.\n",
      "  warnings.warn((\"The least populated class in y has only %d\"\n",
      "/home/gitpod/.pyenv/versions/3.8.16/lib/python3.8/site-packages/sklearn/model_selection/_split.py:666: UserWarning: The least populated class in y has only 1 members, which is less than n_splits=4.\n",
      "  warnings.warn((\"The least populated class in y has only %d\"\n",
      "/home/gitpod/.pyenv/versions/3.8.16/lib/python3.8/site-packages/sklearn/model_selection/_split.py:666: UserWarning: The least populated class in y has only 1 members, which is less than n_splits=4.\n",
      "  warnings.warn((\"The least populated class in y has only %d\"\n",
      "/home/gitpod/.pyenv/versions/3.8.16/lib/python3.8/site-packages/sklearn/model_selection/_split.py:666: UserWarning: The least populated class in y has only 1 members, which is less than n_splits=4.\n",
      "  warnings.warn((\"The least populated class in y has only %d\"\n",
      "/home/gitpod/.pyenv/versions/3.8.16/lib/python3.8/site-packages/sklearn/model_selection/_split.py:666: UserWarning: The least populated class in y has only 1 members, which is less than n_splits=4.\n",
      "  warnings.warn((\"The least populated class in y has only %d\"\n",
      "/home/gitpod/.pyenv/versions/3.8.16/lib/python3.8/site-packages/sklearn/model_selection/_split.py:666: UserWarning: The least populated class in y has only 1 members, which is less than n_splits=4.\n",
      "  warnings.warn((\"The least populated class in y has only %d\"\n",
      "/home/gitpod/.pyenv/versions/3.8.16/lib/python3.8/site-packages/sklearn/model_selection/_split.py:666: UserWarning: The least populated class in y has only 1 members, which is less than n_splits=4.\n",
      "  warnings.warn((\"The least populated class in y has only %d\"\n",
      "/home/gitpod/.pyenv/versions/3.8.16/lib/python3.8/site-packages/sklearn/model_selection/_split.py:666: UserWarning: The least populated class in y has only 1 members, which is less than n_splits=4.\n",
      "  warnings.warn((\"The least populated class in y has only %d\"\n",
      "/home/gitpod/.pyenv/versions/3.8.16/lib/python3.8/site-packages/sklearn/model_selection/_split.py:666: UserWarning: The least populated class in y has only 1 members, which is less than n_splits=4.\n",
      "  warnings.warn((\"The least populated class in y has only %d\"\n",
      "/home/gitpod/.pyenv/versions/3.8.16/lib/python3.8/site-packages/sklearn/model_selection/_split.py:666: UserWarning: The least populated class in y has only 1 members, which is less than n_splits=4.\n",
      "  warnings.warn((\"The least populated class in y has only %d\"\n",
      "/home/gitpod/.pyenv/versions/3.8.16/lib/python3.8/site-packages/sklearn/model_selection/_split.py:666: UserWarning: The least populated class in y has only 1 members, which is less than n_splits=4.\n",
      "  warnings.warn((\"The least populated class in y has only %d\"\n",
      "/home/gitpod/.pyenv/versions/3.8.16/lib/python3.8/site-packages/sklearn/model_selection/_split.py:666: UserWarning: The least populated class in y has only 1 members, which is less than n_splits=4.\n",
      "  warnings.warn((\"The least populated class in y has only %d\"\n",
      "/home/gitpod/.pyenv/versions/3.8.16/lib/python3.8/site-packages/sklearn/model_selection/_split.py:666: UserWarning: The least populated class in y has only 1 members, which is less than n_splits=4.\n",
      "  warnings.warn((\"The least populated class in y has only %d\"\n",
      "/home/gitpod/.pyenv/versions/3.8.16/lib/python3.8/site-packages/sklearn/model_selection/_split.py:666: UserWarning: The least populated class in y has only 1 members, which is less than n_splits=4.\n",
      "  warnings.warn((\"The least populated class in y has only %d\"\n",
      "/home/gitpod/.pyenv/versions/3.8.16/lib/python3.8/site-packages/sklearn/model_selection/_split.py:666: UserWarning: The least populated class in y has only 1 members, which is less than n_splits=4.\n",
      "  warnings.warn((\"The least populated class in y has only %d\"\n",
      "/home/gitpod/.pyenv/versions/3.8.16/lib/python3.8/site-packages/sklearn/model_selection/_split.py:666: UserWarning: The least populated class in y has only 1 members, which is less than n_splits=4.\n",
      "  warnings.warn((\"The least populated class in y has only %d\"\n",
      "/home/gitpod/.pyenv/versions/3.8.16/lib/python3.8/site-packages/sklearn/model_selection/_split.py:666: UserWarning: The least populated class in y has only 1 members, which is less than n_splits=4.\n",
      "  warnings.warn((\"The least populated class in y has only %d\"\n"
     ]
    },
    {
     "name": "stdout",
     "output_type": "stream",
     "text": [
      "PPS threshold - check PPS score IQR to decide threshold for heatmap \n",
      "\n",
      "         count   mean    std  min    25%    50%    75%    max\n",
      "ppscore   90.0  0.075  0.091  0.0  0.001  0.028  0.127  0.339\n"
     ]
    },
    {
     "name": "stderr",
     "output_type": "stream",
     "text": [
      "/home/gitpod/.pyenv/versions/3.8.16/lib/python3.8/site-packages/sklearn/model_selection/_split.py:666: UserWarning: The least populated class in y has only 1 members, which is less than n_splits=4.\n",
      "  warnings.warn((\"The least populated class in y has only %d\"\n"
     ]
    }
   ],
   "source": [
    "df_corr_pearson, df_corr_spearman, pps_matrix = CalculateCorrAndPPS(df)"
   ]
  },
  {
   "cell_type": "markdown",
   "metadata": {},
   "source": [
    "Display the heatmaps"
   ]
  },
  {
   "cell_type": "code",
   "execution_count": 31,
   "metadata": {},
   "outputs": [
    {
     "name": "stdout",
     "output_type": "stream",
     "text": [
      "\n",
      "\n",
      "* Analyse how the target variable for your ML models are correlated with other variables (features and target)\n",
      "* Analyse multi-colinearity, that is, how the features are correlated among themselves\n",
      "\n",
      "\n",
      "*** Heatmap: Spearman Correlation ***\n",
      "It evaluates monotonic relationship \n",
      "\n"
     ]
    },
    {
     "name": "stderr",
     "output_type": "stream",
     "text": [
      "/home/gitpod/.pyenv/versions/3.8.16/lib/python3.8/site-packages/seaborn/matrix.py:204: RuntimeWarning: All-NaN slice encountered\n",
      "  vmin = np.nanmin(calc_data)\n",
      "/home/gitpod/.pyenv/versions/3.8.16/lib/python3.8/site-packages/seaborn/matrix.py:209: RuntimeWarning: All-NaN slice encountered\n",
      "  vmax = np.nanmax(calc_data)\n"
     ]
    },
    {
     "data": {
      "image/png": "[encoded data removed]",
      "text/plain": [
       "<Figure size 1200x1000 with 2 Axes>"
      ]
     },
     "metadata": {},
     "output_type": "display_data"
    },
    {
     "name": "stdout",
     "output_type": "stream",
     "text": [
      "\n",
      "\n",
      "*** Heatmap: Pearson Correlation ***\n",
      "It evaluates the linear relationship between two continuous variables \n",
      "\n"
     ]
    },
    {
     "data": {
      "image/png": "[encoded data removed]",
      "text/plain": [
       "<Figure size 1200x1000 with 2 Axes>"
      ]
     },
     "metadata": {},
     "output_type": "display_data"
    },
    {
     "name": "stdout",
     "output_type": "stream",
     "text": [
      "\n",
      "\n",
      "*** Heatmap: Power Predictive Score (PPS) ***\n",
      "PPS detects linear or non-linear relationships between two columns.\n",
      "The score ranges from 0 (no predictive power) to 1 (perfect predictive power) \n",
      "\n"
     ]
    },
    {
     "data": {
      "image/png": "[encoded data removed]",
      "text/plain": [
       "<Figure size 1200x1000 with 2 Axes>"
      ]
     },
     "metadata": {},
     "output_type": "display_data"
    }
   ],
   "source": [
    "DisplayCorrAndPPS(df_corr_pearson = df_corr_pearson,\n",
    "                  df_corr_spearman = df_corr_spearman, \n",
    "                  pps_matrix = pps_matrix,\n",
    "                  CorrThreshold = 0.4, PPS_Threshold =0.2,\n",
    "                  figsize=(12,10), font_annot=10)"
   ]
  },
  {
   "cell_type": "markdown",
   "metadata": {},
   "source": [
    "## Assessing Missing Data Levels\n",
    "\n",
    "- Custom function to display missing data levels in a DataFrame, it shows the absolute levels, relative levels and data type."
   ]
  },
  {
   "cell_type": "code",
   "execution_count": 32,
   "metadata": {},
   "outputs": [],
   "source": [
    "def EvaluateMissingData(df):\n",
    "    missing_data_absolute = df.isnull().sum()\n",
    "    missing_data_percentage = round(missing_data_absolute/len(df)*100, 2)\n",
    "    df_missing_data = (pd.DataFrame(\n",
    "                            data={\"RowsWithMissingData\": missing_data_absolute,\n",
    "                                   \"PercentageOfDataset\": missing_data_percentage,\n",
    "                                   \"DataType\": df.dtypes}\n",
    "                                    )\n",
    "                          .sort_values(by=['PercentageOfDataset'], ascending=False)\n",
    "                          .query(\"PercentageOfDataset > 0\")\n",
    "                          )\n",
    "\n",
    "    return df_missing_data"
   ]
  },
  {
   "cell_type": "markdown",
   "metadata": {},
   "source": [
    "- Check missing data levels for the collected dataset."
   ]
  },
  {
   "cell_type": "code",
   "execution_count": 33,
   "metadata": {},
   "outputs": [
    {
     "data": {
      "text/html": [
       "<div>\n",
       "<style scoped>\n",
       "    .dataframe tbody tr th:only-of-type {\n",
       "        vertical-align: middle;\n",
       "    }\n",
       "\n",
       "    .dataframe tbody tr th {\n",
       "        vertical-align: top;\n",
       "    }\n",
       "\n",
       "    .dataframe thead th {\n",
       "        text-align: right;\n",
       "    }\n",
       "</style>\n",
       "<table border=\"1\" class=\"dataframe\">\n",
       "  <thead>\n",
       "    <tr style=\"text-align: right;\">\n",
       "      <th></th>\n",
       "      <th>RowsWithMissingData</th>\n",
       "      <th>PercentageOfDataset</th>\n",
       "      <th>DataType</th>\n",
       "    </tr>\n",
       "  </thead>\n",
       "  <tbody>\n",
       "  </tbody>\n",
       "</table>\n",
       "</div>"
      ],
      "text/plain": [
       "Empty DataFrame\n",
       "Columns: [RowsWithMissingData, PercentageOfDataset, DataType]\n",
       "Index: []"
      ]
     },
     "execution_count": 33,
     "metadata": {},
     "output_type": "execute_result"
    }
   ],
   "source": [
    "EvaluateMissingData(df)"
   ]
  },
  {
   "cell_type": "markdown",
   "metadata": {},
   "source": [
    "## Split Train and Test Set"
   ]
  },
  {
   "cell_type": "code",
   "execution_count": 34,
   "metadata": {},
   "outputs": [
    {
     "name": "stdout",
     "output_type": "stream",
     "text": [
      "TrainSet shape: (15179, 10) \n",
      "TestSet shape: (3795, 10)\n"
     ]
    }
   ],
   "source": [
    "from sklearn.model_selection import train_test_split\n",
    "TrainSet, TestSet, _, __ = train_test_split(\n",
    "                                        df,\n",
    "                                        df['Country'],\n",
    "                                        test_size=0.2,\n",
    "                                        random_state=0)\n",
    "\n",
    "print(f\"TrainSet shape: {TrainSet.shape} \\nTestSet shape: {TestSet.shape}\")"
   ]
  },
  {
   "cell_type": "code",
   "execution_count": 35,
   "metadata": {},
   "outputs": [
    {
     "name": "stdout",
     "output_type": "stream",
     "text": [
      "* There are 0 variables with missing data \n",
      "\n"
     ]
    },
    {
     "data": {
      "text/html": [
       "<div>\n",
       "<style scoped>\n",
       "    .dataframe tbody tr th:only-of-type {\n",
       "        vertical-align: middle;\n",
       "    }\n",
       "\n",
       "    .dataframe tbody tr th {\n",
       "        vertical-align: top;\n",
       "    }\n",
       "\n",
       "    .dataframe thead th {\n",
       "        text-align: right;\n",
       "    }\n",
       "</style>\n",
       "<table border=\"1\" class=\"dataframe\">\n",
       "  <thead>\n",
       "    <tr style=\"text-align: right;\">\n",
       "      <th></th>\n",
       "      <th>RowsWithMissingData</th>\n",
       "      <th>PercentageOfDataset</th>\n",
       "      <th>DataType</th>\n",
       "    </tr>\n",
       "  </thead>\n",
       "  <tbody>\n",
       "  </tbody>\n",
       "</table>\n",
       "</div>"
      ],
      "text/plain": [
       "Empty DataFrame\n",
       "Columns: [RowsWithMissingData, PercentageOfDataset, DataType]\n",
       "Index: []"
      ]
     },
     "execution_count": 35,
     "metadata": {},
     "output_type": "execute_result"
    }
   ],
   "source": [
    "df_missing_data = EvaluateMissingData(TrainSet)\n",
    "print(f\"* There are {df_missing_data.shape[0]} variables with missing data \\n\")\n",
    "df_missing_data"
   ]
  },
  {
   "cell_type": "markdown",
   "metadata": {},
   "source": [
    "## Push cleaned data to Repo"
   ]
  },
  {
   "cell_type": "code",
   "execution_count": 36,
   "metadata": {},
   "outputs": [],
   "source": [
    "import os\n",
    "try:\n",
    "  os.makedirs(name='outputs/datasets/cleaned') # create outputs/datasets/collection folder\n",
    "except Exception as e:\n",
    "  print(e)"
   ]
  },
  {
   "cell_type": "markdown",
   "metadata": {},
   "source": [
    "## Train Set"
   ]
  },
  {
   "cell_type": "code",
   "execution_count": 37,
   "metadata": {},
   "outputs": [],
   "source": [
    "TrainSet.to_csv(\"outputs/datasets/cleaned/TrainSetCleaned.csv\", index=False)"
   ]
  },
  {
   "cell_type": "markdown",
   "metadata": {},
   "source": [
    "## Test Set"
   ]
  },
  {
   "cell_type": "code",
   "execution_count": 38,
   "metadata": {},
   "outputs": [],
   "source": [
    "TestSet.to_csv(\"outputs/datasets/cleaned/TestSetCleaned.csv\", index=False)"
   ]
  }
 ],
 "metadata": {
  "kernelspec": {
   "display_name": "Python 3",
   "language": "python",
   "name": "python3"
  },
  "language_info": {
   "codemirror_mode": {
    "name": "ipython",
    "version": 3
   },
   "file_extension": ".py",
   "mimetype": "text/x-python",
   "name": "python",
   "nbconvert_exporter": "python",
   "pygments_lexer": "ipython3",
   "version": "3.8.16"
  }
 },
 "nbformat": 4,
 "nbformat_minor": 2
}
