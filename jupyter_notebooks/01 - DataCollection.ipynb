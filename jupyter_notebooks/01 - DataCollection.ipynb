{
 "cells": [
  {
   "cell_type": "markdown",
   "metadata": {},
   "source": [
    "# **Data Collection Notebook**"
   ]
  },
  {
   "cell_type": "markdown",
   "metadata": {},
   "source": [
    "## Objectives\n",
    "\n",
    "* Fetch data from Kaggle and save it as raw data.\n",
    "* Inspect the data and save it under outputs/datasets/collection\n",
    "\n",
    "## Inputs\n",
    "\n",
    "*   Kaggle JSON file - the authentication token.\n",
    "\n",
    "## Outputs\n",
    "\n",
    "* Generate Dataset: outputs/datasets/collection/Globalco2emissions.csv\n",
    "\n"
   ]
  },
  {
   "cell_type": "markdown",
   "metadata": {},
   "source": [
    "# Install python packages in the notebooks"
   ]
  },
  {
   "cell_type": "code",
   "execution_count": null,
   "metadata": {},
   "outputs": [],
   "source": [
    "%pip install -r /workspace/co2_oracle/requirements.txt"
   ]
  }
 ],
 "metadata": {
  "kernelspec": {
   "display_name": "Python 3",
   "language": "python",
   "name": "python3"
  },
  "language_info": {
   "name": "python",
   "version": "3.12.4"
  }
 },
 "nbformat": 4,
 "nbformat_minor": 2
}
